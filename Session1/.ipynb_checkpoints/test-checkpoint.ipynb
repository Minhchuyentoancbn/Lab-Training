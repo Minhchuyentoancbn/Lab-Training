{
 "cells": [
  {
   "cell_type": "code",
   "execution_count": 1,
   "id": "1f4fe6bc-c9a8-4fd7-9c16-58ce4cf11587",
   "metadata": {},
   "outputs": [
    {
     "name": "stdout",
     "output_type": "stream",
     "text": [
      "Best LAMBDA: 0.861\n",
      "0.016125523485601603\n"
     ]
    }
   ],
   "source": [
    "from linear_regression import *\n",
    "\n",
    "X, y = get_data()\n",
    "# normalization\n",
    "X = normalize_and_add_ones(X)\n",
    "y = (y - y.min()) / (y.max() - y.min())\n",
    "\n",
    "X_train, y_train = X[:50], y[:50]\n",
    "X_test, y_test = X[50:], y[50:]\n",
    "\n",
    "ridge_regression = RidgeRegression()\n",
    "best_LAMBDA = ridge_regression.get_the_best_LAMBDA(X_train, y_train)\n",
    "print(f'Best LAMBDA: {best_LAMBDA}')\n",
    "W_learned = ridge_regression.fit(\n",
    "    X_train, y_train, LAMBDA = best_LAMBDA\n",
    ")\n",
    "\n",
    "y_predicted = ridge_regression.predict(W_learned, X_test)\n",
    "\n",
    "print(ridge_regression.compute_RSS(y_test, y_predicted))"
   ]
  },
  {
   "cell_type": "code",
   "execution_count": null,
   "id": "a77a7eac-e3e5-4982-bb65-75060299c823",
   "metadata": {},
   "outputs": [],
   "source": []
  }
 ],
 "metadata": {
  "kernelspec": {
   "display_name": "Python 3 (ipykernel)",
   "language": "python",
   "name": "python3"
  },
  "language_info": {
   "codemirror_mode": {
    "name": "ipython",
    "version": 3
   },
   "file_extension": ".py",
   "mimetype": "text/x-python",
   "name": "python",
   "nbconvert_exporter": "python",
   "pygments_lexer": "ipython3",
   "version": "3.8.8"
  }
 },
 "nbformat": 4,
 "nbformat_minor": 5
}
