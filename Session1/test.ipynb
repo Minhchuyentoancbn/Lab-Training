{
 "cells": [
  {
   "cell_type": "markdown",
   "id": "5444aebd-fea0-46e7-a295-dc7262674f94",
   "metadata": {},
   "source": [
    "# Test Ridge Regression"
   ]
  },
  {
   "cell_type": "code",
   "execution_count": 1,
   "id": "1f4fe6bc-c9a8-4fd7-9c16-58ce4cf11587",
   "metadata": {},
   "outputs": [
    {
     "name": "stdout",
     "output_type": "stream",
     "text": [
      "Best LAMBDA: 0.861\n",
      "0.016125523485601603\n"
     ]
    }
   ],
   "source": [
    "from linear_regression import *\n",
    "\n",
    "X, y = get_data()\n",
    "# normalization\n",
    "X = normalize_and_add_ones(X)\n",
    "y = (y - y.min()) / (y.max() - y.min())\n",
    "\n",
    "X_train, y_train = X[:50], y[:50]\n",
    "X_test, y_test = X[50:], y[50:]\n",
    "\n",
    "ridge_regression = RidgeRegression()\n",
    "best_LAMBDA = ridge_regression.get_the_best_LAMBDA(X_train, y_train)\n",
    "print(f'Best LAMBDA: {best_LAMBDA}')\n",
    "W_learned = ridge_regression.fit(\n",
    "    X_train, y_train, LAMBDA = best_LAMBDA\n",
    ")\n",
    "\n",
    "y_predicted = ridge_regression.predict(W_learned, X_test)\n",
    "\n",
    "print(ridge_regression.compute_RSS(y_test, y_predicted))"
   ]
  },
  {
   "cell_type": "markdown",
   "id": "9695df26-69bd-49cc-9133-88d8c37b6ecd",
   "metadata": {},
   "source": [
    "# Test TF-IDF"
   ]
  },
  {
   "cell_type": "code",
   "execution_count": 4,
   "id": "611dcde6-fd6f-476f-aeec-c1f46301ddc0",
   "metadata": {},
   "outputs": [
    {
     "name": "stdout",
     "output_type": "stream",
     "text": [
      "Vocabulary size: 14080\n"
     ]
    }
   ],
   "source": [
    "from tfidf import *\n",
    "gather_20newsgroups_data()\n",
    "generate_vocabulary('data/20news-bydate/20news-full-processed.txt')\n",
    "get_tf_idf('data/20news-bydate/20news-full-processed.txt', 'data/20news-bydate/tfidf_full.txt')\n",
    "get_tf_idf('data/20news-bydate/20news-train-processed.txt', 'data/20news-bydate/tfidf_train.txt')\n",
    "get_tf_idf('data/20news-bydate/20news-test-processed.txt', 'data/20news-bydate/tfidf_test.txt')"
   ]
  },
  {
   "cell_type": "code",
   "execution_count": null,
   "id": "3f432b7c-78fb-4720-b15b-17162d391b5d",
   "metadata": {},
   "outputs": [],
   "source": []
  }
 ],
 "metadata": {
  "kernelspec": {
   "display_name": "Python 3 (ipykernel)",
   "language": "python",
   "name": "python3"
  },
  "language_info": {
   "codemirror_mode": {
    "name": "ipython",
    "version": 3
   },
   "file_extension": ".py",
   "mimetype": "text/x-python",
   "name": "python",
   "nbconvert_exporter": "python",
   "pygments_lexer": "ipython3",
   "version": "3.8.8"
  }
 },
 "nbformat": 4,
 "nbformat_minor": 5
}
