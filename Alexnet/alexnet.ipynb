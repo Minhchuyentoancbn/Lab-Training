{
  "nbformat": 4,
  "nbformat_minor": 0,
  "metadata": {
    "colab": {
      "provenance": [],
      "collapsed_sections": []
    },
    "kernelspec": {
      "name": "python3",
      "display_name": "Python 3"
    },
    "language_info": {
      "name": "python"
    },
    "accelerator": "GPU"
  },
  "cells": [
    {
      "cell_type": "code",
      "source": [
        "!pip install tensorflow_addons"
      ],
      "metadata": {
        "colab": {
          "base_uri": "https://localhost:8080/"
        },
        "id": "NMkNR2nq08Hb",
        "outputId": "543eb553-a3cf-4dd4-856a-c34c42e4b4f1"
      },
      "execution_count": 1,
      "outputs": [
        {
          "output_type": "stream",
          "name": "stdout",
          "text": [
            "Looking in indexes: https://pypi.org/simple, https://us-python.pkg.dev/colab-wheels/public/simple/\n",
            "Requirement already satisfied: tensorflow_addons in /usr/local/lib/python3.7/dist-packages (0.18.0)\n",
            "Requirement already satisfied: packaging in /usr/local/lib/python3.7/dist-packages (from tensorflow_addons) (21.3)\n",
            "Requirement already satisfied: typeguard>=2.7 in /usr/local/lib/python3.7/dist-packages (from tensorflow_addons) (2.7.1)\n",
            "Requirement already satisfied: pyparsing!=3.0.5,>=2.0.2 in /usr/local/lib/python3.7/dist-packages (from packaging->tensorflow_addons) (3.0.9)\n"
          ]
        }
      ]
    },
    {
      "cell_type": "code",
      "execution_count": 2,
      "metadata": {
        "id": "noZ_ns5GGgDo"
      },
      "outputs": [],
      "source": [
        "import numpy as np\n",
        "import pandas as pd\n",
        "import matplotlib.pyplot as plt\n",
        "import seaborn as sns\n",
        "\n",
        "import tensorflow as tf\n",
        "import tensorflow_addons as tfa\n",
        "from tensorflow.keras.layers import Conv2D, MaxPooling2D, Flatten, Dense, Dropout, Softmax, Lambda, Activation, BatchNormalization\n",
        "from tensorflow.keras.models import Sequential\n",
        "from tensorflow.nn import local_response_normalization\n",
        "from tensorflow.keras.preprocessing.image import ImageDataGenerator\n",
        "from tensorflow.keras.callbacks import ReduceLROnPlateau\n",
        "\n",
        "from sklearn.model_selection import train_test_split\n",
        "\n",
        "%matplotlib inline"
      ]
    },
    {
      "cell_type": "code",
      "source": [
        "np.random.seed(2022)"
      ],
      "metadata": {
        "id": "ZLCBjjkSLnGc"
      },
      "execution_count": 3,
      "outputs": []
    },
    {
      "cell_type": "markdown",
      "source": [
        "# 1. Datasets"
      ],
      "metadata": {
        "id": "jM5pb1qpIYCi"
      }
    },
    {
      "cell_type": "code",
      "source": [
        "cifair10 = tf.keras.datasets.cifar10.load_data()\n",
        "\n",
        "(X_train, y_train), (X_test, y_test) = cifair10"
      ],
      "metadata": {
        "id": "6NhRJsEdHcBP"
      },
      "execution_count": 4,
      "outputs": []
    },
    {
      "cell_type": "code",
      "source": [
        "X_train.shape"
      ],
      "metadata": {
        "colab": {
          "base_uri": "https://localhost:8080/"
        },
        "id": "99HPLjY-IuyE",
        "outputId": "d608c965-1953-4ccc-af0b-316098e2f38e"
      },
      "execution_count": 5,
      "outputs": [
        {
          "output_type": "execute_result",
          "data": {
            "text/plain": [
              "(50000, 32, 32, 3)"
            ]
          },
          "metadata": {},
          "execution_count": 5
        }
      ]
    },
    {
      "cell_type": "code",
      "source": [
        "y_train.shape"
      ],
      "metadata": {
        "colab": {
          "base_uri": "https://localhost:8080/"
        },
        "id": "aYdI-OMGIx7Q",
        "outputId": "ad76c371-6e23-428b-8de2-888e74893955"
      },
      "execution_count": 6,
      "outputs": [
        {
          "output_type": "execute_result",
          "data": {
            "text/plain": [
              "(50000, 1)"
            ]
          },
          "metadata": {},
          "execution_count": 6
        }
      ]
    },
    {
      "cell_type": "code",
      "source": [
        "X_test.shape"
      ],
      "metadata": {
        "colab": {
          "base_uri": "https://localhost:8080/"
        },
        "id": "9i6OOoCcI0zT",
        "outputId": "98f38249-9ac0-4a49-db68-bdc907bb4c9a"
      },
      "execution_count": 7,
      "outputs": [
        {
          "output_type": "execute_result",
          "data": {
            "text/plain": [
              "(10000, 32, 32, 3)"
            ]
          },
          "metadata": {},
          "execution_count": 7
        }
      ]
    },
    {
      "cell_type": "code",
      "source": [
        "y_train.min(), y_train.max()"
      ],
      "metadata": {
        "colab": {
          "base_uri": "https://localhost:8080/"
        },
        "id": "UfOma2fHI3gS",
        "outputId": "7c0dbbf8-2d8a-4213-9824-a8cbb75b4ce9"
      },
      "execution_count": 8,
      "outputs": [
        {
          "output_type": "execute_result",
          "data": {
            "text/plain": [
              "(0, 9)"
            ]
          },
          "metadata": {},
          "execution_count": 8
        }
      ]
    },
    {
      "cell_type": "code",
      "source": [
        "fig, axes = plt.subplots(5, 5, figsize=(15, 15))\n",
        "\n",
        "for i, ax in enumerate(axes.flatten()):\n",
        "    ax.axis('off')\n",
        "    ax.imshow(X_train[i])"
      ],
      "metadata": {
        "colab": {
          "base_uri": "https://localhost:8080/",
          "height": 0
        },
        "id": "sirl60MnJdcT",
        "outputId": "38b30701-a8c3-4e32-e22e-23557912cdff"
      },
      "execution_count": 9,
      "outputs": [
        {
          "output_type": "display_data",
          "data": {
            "text/plain": [
              "<Figure size 1080x1080 with 25 Axes>"
            ],
            "image/png": "[encoded data removed]"
          },
          "metadata": {
            "needs_background": "light"
          }
        }
      ]
    },
    {
      "cell_type": "markdown",
      "source": [
        "## Preprocess the dataset"
      ],
      "metadata": {
        "id": "L5UJk6l2KnpI"
      }
    },
    {
      "cell_type": "code",
      "source": [
        "# One-hot encoding the labels\n",
        "y_train = pd.get_dummies(y_train.squeeze()).values\n",
        "y_test = pd.get_dummies(y_test.squeeze()).values"
      ],
      "metadata": {
        "id": "qMMVDT3FJfHD"
      },
      "execution_count": 10,
      "outputs": []
    },
    {
      "cell_type": "code",
      "source": [
        "y_train.shape"
      ],
      "metadata": {
        "colab": {
          "base_uri": "https://localhost:8080/"
        },
        "id": "Hdd2OmPRLLIW",
        "outputId": "be08b417-6cac-432d-af4e-e84b54708332"
      },
      "execution_count": 11,
      "outputs": [
        {
          "output_type": "execute_result",
          "data": {
            "text/plain": [
              "(50000, 10)"
            ]
          },
          "metadata": {},
          "execution_count": 11
        }
      ]
    },
    {
      "cell_type": "markdown",
      "source": [
        "It's written in the article that:\n",
        "\"_Given a rectangular image, we first rescaled the image such that the shorter side was of length 256, and then cropped out the central 256×256 patch from the resulting image. We did not pre-process the images in any other way, except for subtracting the mean activity over the training set from each pixel. So we trained our network on the (centered) raw RGB values of the pixels._\"\n",
        "\n",
        "Since our images are already in the shape of 32x32 so we only subtract the mean activity over the training set from each pixel. See the next cell"
      ],
      "metadata": {
        "id": "UXa1eiZRMJFK"
      }
    },
    {
      "cell_type": "code",
      "source": [
        "X_train = X_train - X_train.mean(axis=0)\n",
        "X_test = X_test - X_test.mean(axis=0)"
      ],
      "metadata": {
        "id": "0ULhkSGRXcso"
      },
      "execution_count": 12,
      "outputs": []
    },
    {
      "cell_type": "markdown",
      "source": [
        "## Data Augmentation"
      ],
      "metadata": {
        "id": "iP3ueDk8sxE-"
      }
    },
    {
      "cell_type": "code",
      "source": [
        "X_train, X_val, y_train, y_val = train_test_split(X_train, y_train, test_size=0.2)"
      ],
      "metadata": {
        "id": "2ED1ZICM3uvk"
      },
      "execution_count": 13,
      "outputs": []
    },
    {
      "cell_type": "code",
      "source": [
        "train_generator = ImageDataGenerator(\n",
        "    rotation_range=2, \n",
        "    horizontal_flip=True,\n",
        "    zoom_range=.1)\n",
        "\n",
        "test_generator = ImageDataGenerator(\n",
        "    rotation_range=2, \n",
        "    horizontal_flip=True,\n",
        "    zoom_range=.1)\n",
        "\n",
        "val_generator = ImageDataGenerator(\n",
        "    rotation_range=2, \n",
        "    horizontal_flip=True,\n",
        "    zoom_range=.1)\n",
        "\n"
      ],
      "metadata": {
        "id": "bTUzHELtswio"
      },
      "execution_count": 14,
      "outputs": []
    },
    {
      "cell_type": "code",
      "source": [
        "train_generator.fit(X_train)\n",
        "test_generator.fit(X_test)\n",
        "val_generator.fit(X_val)"
      ],
      "metadata": {
        "id": "8-sqWWkptSm7"
      },
      "execution_count": 15,
      "outputs": []
    },
    {
      "cell_type": "markdown",
      "source": [
        "# 2. The Architecture"
      ],
      "metadata": {
        "id": "Uvy_B55vNL5r"
      }
    },
    {
      "cell_type": "code",
      "source": [
        "\n",
        "\n",
        "model = Sequential([\n",
        "    # 1st convolutional layer, 96 kernels of size 11×11×3 with a stride of 4 pixels\n",
        "    Conv2D(filters=96, activation='relu', input_shape=(32, 32, 3), kernel_size=(11, 11), strides=(4, 4), \n",
        "           kernel_initializer=tf.keras.initializers.RandomNormal(stddev=0.01, seed=2022), padding='same'),  \n",
        "    Lambda(local_response_normalization, arguments={'alpha': 1e-4, 'beta': 0.75, 'bias': 2}),  # 1st response-normalization layer\n",
        "    MaxPooling2D(pool_size=(2,2), strides=(2,2), padding='same'),  # 1st max-pooling layer\n",
        "\n",
        "\n",
        "    # 2nd convolutional layer, 256 kernels of size 5 × 5 × 48\n",
        "    Conv2D(filters=256, kernel_size=(5, 5), strides=(1, 1), activation='relu', bias_initializer=tf.keras.initializers.Ones(), \n",
        "           kernel_initializer=tf.keras.initializers.RandomNormal(stddev=0.01, seed=2022), padding='same'),  \n",
        "    Lambda(local_response_normalization, arguments={'alpha': 1e-4, 'beta': 0.75, 'bias': 2}),  # 2nd response-normalization layer\n",
        "    MaxPooling2D(pool_size=(2,2), strides=(2,2), padding='same'),  # 2nd max-pooling layer\n",
        "\n",
        "\n",
        "    Conv2D(filters=384, kernel_size=(3, 3), strides=(1, 1), activation='relu', padding='same',\n",
        "           kernel_initializer=tf.keras.initializers.RandomNormal(stddev=0.01, seed=2022)),  # 3rd convolutional layer, 384 kernels of size 3 × 3 × 256\n",
        "\n",
        "\n",
        "    Conv2D(filters=384, kernel_size=(3, 3), strides=(1, 1), activation='relu', padding='same',\n",
        "           bias_initializer=tf.keras.initializers.Ones(), \n",
        "           kernel_initializer=tf.keras.initializers.RandomNormal(stddev=0.01, seed=2022)),  # 4th convolutional layer, 384 kernels of size 3 × 3 × 192\n",
        "\n",
        "\n",
        "    Conv2D(filters=256, kernel_size=(3, 3), strides= (1, 1), activation='relu', padding='same',\n",
        "           bias_initializer=tf.keras.initializers.Ones(), \n",
        "           kernel_initializer=tf.keras.initializers.RandomNormal(stddev=0.01, seed=2022)),  # 5th convolutional layer, 256 kernels of size 3 × 3 × 192\n",
        "    MaxPooling2D(pool_size=(2,2), strides=(2,2), padding='same'),  # 3rd max-pooling layer\n",
        "\n",
        "    Flatten(),\n",
        "\n",
        "\n",
        "    Dense(units=4096, activation='relu', bias_initializer=tf.keras.initializers.Ones(), \n",
        "           kernel_initializer=tf.keras.initializers.RandomNormal(stddev=0.01, seed=2022), input_shape=(32, 32, 3,)),\n",
        "    Dropout(rate=0.5),\n",
        "\n",
        "\n",
        "    Dense(units=4096, activation='relu', bias_initializer=tf.keras.initializers.Ones(), \n",
        "           kernel_initializer=tf.keras.initializers.RandomNormal(stddev=0.01, seed=2022)),\n",
        "    Dropout(rate=0.5),\n",
        "\n",
        "\n",
        "    Dense(units=10, bias_initializer=tf.keras.initializers.Ones(), activation='softmax',\n",
        "           kernel_initializer=tf.keras.initializers.RandomNormal(stddev=0.01, seed=2022))\n",
        "])\n",
        "\n",
        "\n"
      ],
      "metadata": {
        "id": "5MjA1rIrNEtQ"
      },
      "execution_count": 16,
      "outputs": []
    },
    {
      "cell_type": "code",
      "source": [
        "model.summary()"
      ],
      "metadata": {
        "colab": {
          "base_uri": "https://localhost:8080/"
        },
        "id": "0eycthSjr1kz",
        "outputId": "18b5c936-0386-4b61-870c-8e8a175834ce"
      },
      "execution_count": 17,
      "outputs": [
        {
          "output_type": "stream",
          "name": "stdout",
          "text": [
            "Model: \"sequential\"\n",
            "_________________________________________________________________\n",
            " Layer (type)                Output Shape              Param #   \n",
            "=================================================================\n",
            " conv2d (Conv2D)             (None, 8, 8, 96)          34944     \n",
            "                                                                 \n",
            " lambda (Lambda)             (None, 8, 8, 96)          0         \n",
            "                                                                 \n",
            " max_pooling2d (MaxPooling2D  (None, 4, 4, 96)         0         \n",
            " )                                                               \n",
            "                                                                 \n",
            " conv2d_1 (Conv2D)           (None, 4, 4, 256)         614656    \n",
            "                                                                 \n",
            " lambda_1 (Lambda)           (None, 4, 4, 256)         0         \n",
            "                                                                 \n",
            " max_pooling2d_1 (MaxPooling  (None, 2, 2, 256)        0         \n",
            " 2D)                                                             \n",
            "                                                                 \n",
            " conv2d_2 (Conv2D)           (None, 2, 2, 384)         885120    \n",
            "                                                                 \n",
            " conv2d_3 (Conv2D)           (None, 2, 2, 384)         1327488   \n",
            "                                                                 \n",
            " conv2d_4 (Conv2D)           (None, 2, 2, 256)         884992    \n",
            "                                                                 \n",
            " max_pooling2d_2 (MaxPooling  (None, 1, 1, 256)        0         \n",
            " 2D)                                                             \n",
            "                                                                 \n",
            " flatten (Flatten)           (None, 256)               0         \n",
            "                                                                 \n",
            " dense (Dense)               (None, 4096)              1052672   \n",
            "                                                                 \n",
            " dropout (Dropout)           (None, 4096)              0         \n",
            "                                                                 \n",
            " dense_1 (Dense)             (None, 4096)              16781312  \n",
            "                                                                 \n",
            " dropout_1 (Dropout)         (None, 4096)              0         \n",
            "                                                                 \n",
            " dense_2 (Dense)             (None, 10)                40970     \n",
            "                                                                 \n",
            "=================================================================\n",
            "Total params: 21,622,154\n",
            "Trainable params: 21,622,154\n",
            "Non-trainable params: 0\n",
            "_________________________________________________________________\n"
          ]
        }
      ]
    },
    {
      "cell_type": "markdown",
      "source": [
        "# 3. Details of Learning"
      ],
      "metadata": {
        "id": "BYC4FFQTvKR_"
      }
    },
    {
      "cell_type": "markdown",
      "source": [
        "It's written in the article that:\n",
        "\"_We used an equal learning rate for all layers, which we adjusted manually throughout training. The heuristic which we followed was to divide the learning rate by 10 when the validation error rate stopped improving with the current learning rate_\""
      ],
      "metadata": {
        "id": "vjXJK6w1vNvw"
      }
    },
    {
      "cell_type": "code",
      "source": [
        "lrr = ReduceLROnPlateau(\n",
        "    monitor='val_accuracy',\n",
        "    patience=3\n",
        ")"
      ],
      "metadata": {
        "id": "c56CpnS1u2tT"
      },
      "execution_count": 18,
      "outputs": []
    },
    {
      "cell_type": "code",
      "source": [
        "learning_rate = 0.01\n",
        "batch_size = 100\n",
        "epochs1 = 10\n",
        "epochs2 = 25"
      ],
      "metadata": {
        "id": "qQ6R8nJDwXhh"
      },
      "execution_count": 19,
      "outputs": []
    },
    {
      "cell_type": "code",
      "source": [
        "model.compile(\n",
        "    loss = tf.keras.losses.categorical_crossentropy, \n",
        "    optimizer = tfa.optimizers.SGDW(\n",
        "        learning_rate=learning_rate, weight_decay = 0.0005, momentum=0.9, nesterov=True\n",
        "    ) , \n",
        "    metrics=['accuracy']\n",
        ")"
      ],
      "metadata": {
        "id": "AMRERbZbxyYL"
      },
      "execution_count": 20,
      "outputs": []
    },
    {
      "cell_type": "code",
      "source": [
        "#Training the model\n",
        "model_history = model.fit_generator(\n",
        "    train_generator.flow(X_train, y_train, batch_size=batch_size), \n",
        "    epochs = epochs1, \n",
        "    steps_per_epoch = X_train.shape[0]//batch_size, \n",
        "    validation_data = val_generator.flow(X_val, y_val, batch_size=batch_size), \n",
        "    validation_steps = len(val_generator.flow(X_val, y_val, batch_size=batch_size)), \n",
        "    callbacks = [lrr], verbose=1)"
      ],
      "metadata": {
        "colab": {
          "base_uri": "https://localhost:8080/"
        },
        "id": "rYuUoI5j2Axs",
        "outputId": "b87edbb7-56e1-4a9b-a4da-e2171e77d7d2"
      },
      "execution_count": 21,
      "outputs": [
        {
          "output_type": "stream",
          "name": "stdout",
          "text": [
            "Epoch 1/10\n"
          ]
        },
        {
          "output_type": "stream",
          "name": "stderr",
          "text": [
            "/usr/local/lib/python3.7/dist-packages/ipykernel_launcher.py:8: UserWarning: `Model.fit_generator` is deprecated and will be removed in a future version. Please use `Model.fit`, which supports generators.\n",
            "  \n"
          ]
        },
        {
          "output_type": "stream",
          "name": "stdout",
          "text": [
            "400/400 [==============================] - 31s 70ms/step - loss: 2.5203 - accuracy: 0.0993 - val_loss: 2.3026 - val_accuracy: 0.1018 - lr: 0.0100\n",
            "Epoch 2/10\n",
            "400/400 [==============================] - 22s 55ms/step - loss: 2.3031 - accuracy: 0.1005 - val_loss: 2.3027 - val_accuracy: 0.0979 - lr: 0.0100\n",
            "Epoch 3/10\n",
            "400/400 [==============================] - 22s 56ms/step - loss: 2.3030 - accuracy: 0.0995 - val_loss: 2.3030 - val_accuracy: 0.0988 - lr: 0.0100\n",
            "Epoch 4/10\n",
            "400/400 [==============================] - 22s 55ms/step - loss: 2.3031 - accuracy: 0.0983 - val_loss: 2.3028 - val_accuracy: 0.0998 - lr: 0.0100\n",
            "Epoch 5/10\n",
            "400/400 [==============================] - 22s 55ms/step - loss: 2.3028 - accuracy: 0.1002 - val_loss: 2.3027 - val_accuracy: 0.0998 - lr: 1.0000e-03\n",
            "Epoch 6/10\n",
            "400/400 [==============================] - 22s 55ms/step - loss: 2.3027 - accuracy: 0.0996 - val_loss: 2.3026 - val_accuracy: 0.0998 - lr: 1.0000e-03\n",
            "Epoch 7/10\n",
            "400/400 [==============================] - 23s 57ms/step - loss: 2.3027 - accuracy: 0.1001 - val_loss: 2.3026 - val_accuracy: 0.0995 - lr: 1.0000e-03\n",
            "Epoch 8/10\n",
            "400/400 [==============================] - 22s 55ms/step - loss: 2.3031 - accuracy: 0.1016 - val_loss: 2.3032 - val_accuracy: 0.0995 - lr: 1.0000e-04\n",
            "Epoch 9/10\n",
            "400/400 [==============================] - 22s 55ms/step - loss: 2.3042 - accuracy: 0.0977 - val_loss: 2.3049 - val_accuracy: 0.0995 - lr: 1.0000e-04\n",
            "Epoch 10/10\n",
            "400/400 [==============================] - 22s 55ms/step - loss: 2.3062 - accuracy: 0.1015 - val_loss: 2.3071 - val_accuracy: 0.0995 - lr: 1.0000e-04\n"
          ]
        }
      ]
    },
    {
      "cell_type": "markdown",
      "source": [
        "## Other versions"
      ],
      "metadata": {
        "id": "QzkYn2RdeNCq"
      }
    },
    {
      "cell_type": "markdown",
      "source": [
        "After following the paper, the result seems to be not good. So we made a few adjustments. We used Batchnormalization instead of Local Response Normalization and epochs = 25"
      ],
      "metadata": {
        "id": "kfMGC8eveN2a"
      }
    },
    {
      "cell_type": "code",
      "source": [
        "\n",
        "model2 = Sequential([\n",
        "    # 1st convolutional layer, 96 kernels of size 11×11×3 with a stride of 4 pixels\n",
        "    Conv2D(filters=96, input_shape=(32, 32, 3), kernel_size=(11, 11), strides=(4, 4), \n",
        "           kernel_initializer=tf.keras.initializers.RandomNormal(stddev=0.01, seed=2022), padding='same'),  \n",
        "    BatchNormalization(), \n",
        "    Activation('relu'),\n",
        "    MaxPooling2D(pool_size=(2,2), strides=(2,2), padding='same'),  # 1st max-pooling layer\n",
        "\n",
        "\n",
        "    # 2nd convolutional layer, 256 kernels of size 5 × 5 × 48\n",
        "    Conv2D(filters=256, kernel_size=(5, 5), strides=(1, 1), bias_initializer=tf.keras.initializers.Ones(), \n",
        "           kernel_initializer=tf.keras.initializers.RandomNormal(stddev=0.01, seed=2022), padding='same'),  \n",
        "    BatchNormalization(),\n",
        "    Activation('relu'),\n",
        "    MaxPooling2D(pool_size=(2,2), strides=(2,2), padding='same'),  # 2nd max-pooling layer\n",
        "\n",
        "\n",
        "    Conv2D(filters=384, kernel_size=(3, 3), strides=(1, 1), padding='same',\n",
        "           kernel_initializer=tf.keras.initializers.RandomNormal(stddev=0.01, seed=2022)),  # 3rd convolutional layer, 384 kernels of size 3 × 3 × 256\n",
        "    BatchNormalization(),\n",
        "    Activation('relu'),\n",
        "\n",
        "    Conv2D(filters=384, kernel_size=(3, 3), strides=(1, 1), padding='same',\n",
        "           bias_initializer=tf.keras.initializers.Ones(), \n",
        "           kernel_initializer=tf.keras.initializers.RandomNormal(stddev=0.01, seed=2022)),  # 4th convolutional layer, 384 kernels of size 3 × 3 × 192\n",
        "    BatchNormalization(),\n",
        "    Activation('relu'),\n",
        "\n",
        "    Conv2D(filters=256, kernel_size=(3, 3), strides= (1, 1), padding='same',\n",
        "           bias_initializer=tf.keras.initializers.Ones(), \n",
        "           kernel_initializer=tf.keras.initializers.RandomNormal(stddev=0.01, seed=2022)),  # 5th convolutional layer, 256 kernels of size 3 × 3 × 192\n",
        "    BatchNormalization(),\n",
        "    Activation('relu'),\n",
        "    MaxPooling2D(pool_size=(2,2), strides=(2,2), padding='same'),  # 3rd max-pooling layer\n",
        "\n",
        "    Flatten(),\n",
        "\n",
        "\n",
        "    Dense(units=4096, bias_initializer=tf.keras.initializers.Ones(), \n",
        "           kernel_initializer=tf.keras.initializers.RandomNormal(stddev=0.01, seed=2022), input_shape=(32, 32, 3,)),\n",
        "    BatchNormalization(),\n",
        "    Activation('relu'),\n",
        "    Dropout(rate=0.5),\n",
        "\n",
        "\n",
        "    Dense(units=4096, bias_initializer=tf.keras.initializers.Ones(), \n",
        "           kernel_initializer=tf.keras.initializers.RandomNormal(stddev=0.01, seed=2022)),\n",
        "    BatchNormalization(),\n",
        "    Activation('relu'),\n",
        "    Dropout(rate=0.5),\n",
        "\n",
        "\n",
        "    Dense(units=10, bias_initializer=tf.keras.initializers.Ones(), \n",
        "           kernel_initializer=tf.keras.initializers.RandomNormal(stddev=0.01, seed=2022)),\n",
        "    BatchNormalization(),\n",
        "    Activation('softmax'),\n",
        "])\n"
      ],
      "metadata": {
        "id": "yE8rQq-keLXS"
      },
      "execution_count": 22,
      "outputs": []
    },
    {
      "cell_type": "code",
      "source": [
        "model2.compile(\n",
        "    loss = tf.keras.losses.categorical_crossentropy, \n",
        "    optimizer = tfa.optimizers.SGDW(\n",
        "        learning_rate=learning_rate, weight_decay = 0.0005, momentum=0.9, nesterov=True\n",
        "    ) , \n",
        "    metrics=['accuracy']\n",
        ")\n",
        "\n",
        "#Training the model\n",
        "model2_history = model2.fit_generator(\n",
        "    train_generator.flow(X_train, y_train, batch_size=batch_size), \n",
        "    epochs = epochs2, \n",
        "    steps_per_epoch = X_train.shape[0]//batch_size, \n",
        "    validation_data = val_generator.flow(X_val, y_val, batch_size=batch_size), \n",
        "    validation_steps = len(val_generator.flow(X_val, y_val, batch_size=batch_size)), \n",
        "    callbacks = [lrr], verbose=1)"
      ],
      "metadata": {
        "id": "EvZ1j69r3IDO",
        "colab": {
          "base_uri": "https://localhost:8080/"
        },
        "outputId": "c5a2be4d-5271-4495-de9e-5465d40e9628"
      },
      "execution_count": 23,
      "outputs": [
        {
          "output_type": "stream",
          "name": "stdout",
          "text": [
            "Epoch 1/25\n"
          ]
        },
        {
          "output_type": "stream",
          "name": "stderr",
          "text": [
            "/usr/local/lib/python3.7/dist-packages/ipykernel_launcher.py:16: UserWarning: `Model.fit_generator` is deprecated and will be removed in a future version. Please use `Model.fit`, which supports generators.\n",
            "  app.launch_new_instance()\n"
          ]
        },
        {
          "output_type": "stream",
          "name": "stdout",
          "text": [
            "400/400 [==============================] - 24s 56ms/step - loss: 1.6279 - accuracy: 0.4123 - val_loss: 2.3175 - val_accuracy: 0.1197 - lr: 0.0100\n",
            "Epoch 2/25\n",
            "400/400 [==============================] - 22s 56ms/step - loss: 1.3248 - accuracy: 0.5304 - val_loss: 2.2763 - val_accuracy: 0.1929 - lr: 0.0100\n",
            "Epoch 3/25\n",
            "400/400 [==============================] - 23s 56ms/step - loss: 1.2055 - accuracy: 0.5806 - val_loss: 1.8752 - val_accuracy: 0.3150 - lr: 0.0100\n",
            "Epoch 4/25\n",
            "400/400 [==============================] - 22s 56ms/step - loss: 1.1295 - accuracy: 0.6068 - val_loss: 1.7871 - val_accuracy: 0.3771 - lr: 0.0100\n",
            "Epoch 5/25\n",
            "400/400 [==============================] - 22s 56ms/step - loss: 1.0731 - accuracy: 0.6287 - val_loss: 1.5506 - val_accuracy: 0.4606 - lr: 0.0100\n",
            "Epoch 6/25\n",
            "400/400 [==============================] - 23s 57ms/step - loss: 1.0378 - accuracy: 0.6422 - val_loss: 1.4428 - val_accuracy: 0.5099 - lr: 0.0100\n",
            "Epoch 7/25\n",
            "400/400 [==============================] - 23s 58ms/step - loss: 1.0019 - accuracy: 0.6594 - val_loss: 1.5018 - val_accuracy: 0.5087 - lr: 0.0100\n",
            "Epoch 8/25\n",
            "400/400 [==============================] - 24s 59ms/step - loss: 0.9741 - accuracy: 0.6688 - val_loss: 1.3378 - val_accuracy: 0.5493 - lr: 0.0100\n",
            "Epoch 9/25\n",
            "400/400 [==============================] - 23s 57ms/step - loss: 0.9669 - accuracy: 0.6727 - val_loss: 1.2544 - val_accuracy: 0.5860 - lr: 0.0100\n",
            "Epoch 10/25\n",
            "400/400 [==============================] - 23s 58ms/step - loss: 0.9362 - accuracy: 0.6846 - val_loss: 1.3784 - val_accuracy: 0.5464 - lr: 0.0100\n",
            "Epoch 11/25\n",
            "400/400 [==============================] - 23s 57ms/step - loss: 0.9269 - accuracy: 0.6875 - val_loss: 1.2616 - val_accuracy: 0.5961 - lr: 0.0100\n",
            "Epoch 12/25\n",
            "400/400 [==============================] - 23s 57ms/step - loss: 0.9132 - accuracy: 0.6945 - val_loss: 1.1904 - val_accuracy: 0.6412 - lr: 0.0100\n",
            "Epoch 13/25\n",
            "400/400 [==============================] - 23s 57ms/step - loss: 0.8992 - accuracy: 0.6967 - val_loss: 1.2674 - val_accuracy: 0.5821 - lr: 0.0100\n",
            "Epoch 14/25\n",
            "400/400 [==============================] - 24s 59ms/step - loss: 0.8966 - accuracy: 0.6995 - val_loss: 1.0824 - val_accuracy: 0.6547 - lr: 0.0100\n",
            "Epoch 15/25\n",
            "400/400 [==============================] - 23s 59ms/step - loss: 0.8779 - accuracy: 0.7061 - val_loss: 1.1480 - val_accuracy: 0.6203 - lr: 0.0100\n",
            "Epoch 16/25\n",
            "400/400 [==============================] - 23s 58ms/step - loss: 0.8677 - accuracy: 0.7105 - val_loss: 1.1588 - val_accuracy: 0.6041 - lr: 0.0100\n",
            "Epoch 17/25\n",
            "400/400 [==============================] - 23s 58ms/step - loss: 0.8568 - accuracy: 0.7164 - val_loss: 1.0131 - val_accuracy: 0.6600 - lr: 0.0100\n",
            "Epoch 18/25\n",
            "400/400 [==============================] - 24s 61ms/step - loss: 0.8459 - accuracy: 0.7180 - val_loss: 1.0035 - val_accuracy: 0.6613 - lr: 0.0100\n",
            "Epoch 19/25\n",
            "400/400 [==============================] - 23s 58ms/step - loss: 0.8476 - accuracy: 0.7160 - val_loss: 1.0942 - val_accuracy: 0.6296 - lr: 0.0100\n",
            "Epoch 20/25\n",
            "400/400 [==============================] - 23s 57ms/step - loss: 0.8392 - accuracy: 0.7205 - val_loss: 1.0526 - val_accuracy: 0.6461 - lr: 0.0100\n",
            "Epoch 21/25\n",
            "400/400 [==============================] - 23s 58ms/step - loss: 0.8401 - accuracy: 0.7187 - val_loss: 1.0566 - val_accuracy: 0.6465 - lr: 0.0100\n",
            "Epoch 22/25\n",
            "400/400 [==============================] - 23s 58ms/step - loss: 0.7165 - accuracy: 0.7817 - val_loss: 0.9699 - val_accuracy: 0.7191 - lr: 1.0000e-03\n",
            "Epoch 23/25\n",
            "400/400 [==============================] - 23s 58ms/step - loss: 0.6920 - accuracy: 0.8205 - val_loss: 0.9272 - val_accuracy: 0.7236 - lr: 1.0000e-03\n",
            "Epoch 24/25\n",
            "400/400 [==============================] - 23s 58ms/step - loss: 0.7141 - accuracy: 0.8247 - val_loss: 0.9155 - val_accuracy: 0.7353 - lr: 1.0000e-03\n",
            "Epoch 25/25\n",
            "400/400 [==============================] - 23s 57ms/step - loss: 0.7257 - accuracy: 0.8267 - val_loss: 0.9254 - val_accuracy: 0.7298 - lr: 1.0000e-03\n"
          ]
        }
      ]
    },
    {
      "cell_type": "code",
      "source": [
        "(model.predict(X_test).argmax(axis=1) == y_test.argmax(axis=1)).mean()"
      ],
      "metadata": {
        "colab": {
          "base_uri": "https://localhost:8080/"
        },
        "id": "rgGbEv1Aj3lC",
        "outputId": "bd2ee66d-2f58-43e0-81e9-fd76987f63a9"
      },
      "execution_count": 24,
      "outputs": [
        {
          "output_type": "stream",
          "name": "stdout",
          "text": [
            "313/313 [==============================] - 1s 4ms/step\n"
          ]
        },
        {
          "output_type": "execute_result",
          "data": {
            "text/plain": [
              "0.1"
            ]
          },
          "metadata": {},
          "execution_count": 24
        }
      ]
    },
    {
      "cell_type": "code",
      "source": [
        "(model2.predict(X_test).argmax(axis=1) == y_test.argmax(axis=1)).mean()"
      ],
      "metadata": {
        "colab": {
          "base_uri": "https://localhost:8080/"
        },
        "id": "FsB03NoCj6TE",
        "outputId": "336f4e4d-a92a-47d7-bb1c-ebf7a3bfcf4d"
      },
      "execution_count": 25,
      "outputs": [
        {
          "output_type": "stream",
          "name": "stdout",
          "text": [
            "313/313 [==============================] - 1s 3ms/step\n"
          ]
        },
        {
          "output_type": "execute_result",
          "data": {
            "text/plain": [
              "0.7368"
            ]
          },
          "metadata": {},
          "execution_count": 25
        }
      ]
    },
    {
      "cell_type": "markdown",
      "source": [
        "We see that after our adjustments the result are much better."
      ],
      "metadata": {
        "id": "HQx3OnKFkARm"
      }
    },
    {
      "cell_type": "code",
      "source": [
        "model2.summary()"
      ],
      "metadata": {
        "colab": {
          "base_uri": "https://localhost:8080/"
        },
        "id": "QPykWt6Lj_tp",
        "outputId": "d62ba6fd-255d-4418-a372-7408b7f827e2"
      },
      "execution_count": 26,
      "outputs": [
        {
          "output_type": "stream",
          "name": "stdout",
          "text": [
            "Model: \"sequential_1\"\n",
            "_________________________________________________________________\n",
            " Layer (type)                Output Shape              Param #   \n",
            "=================================================================\n",
            " conv2d_5 (Conv2D)           (None, 8, 8, 96)          34944     \n",
            "                                                                 \n",
            " batch_normalization (BatchN  (None, 8, 8, 96)         384       \n",
            " ormalization)                                                   \n",
            "                                                                 \n",
            " activation (Activation)     (None, 8, 8, 96)          0         \n",
            "                                                                 \n",
            " max_pooling2d_3 (MaxPooling  (None, 4, 4, 96)         0         \n",
            " 2D)                                                             \n",
            "                                                                 \n",
            " conv2d_6 (Conv2D)           (None, 4, 4, 256)         614656    \n",
            "                                                                 \n",
            " batch_normalization_1 (Batc  (None, 4, 4, 256)        1024      \n",
            " hNormalization)                                                 \n",
            "                                                                 \n",
            " activation_1 (Activation)   (None, 4, 4, 256)         0         \n",
            "                                                                 \n",
            " max_pooling2d_4 (MaxPooling  (None, 2, 2, 256)        0         \n",
            " 2D)                                                             \n",
            "                                                                 \n",
            " conv2d_7 (Conv2D)           (None, 2, 2, 384)         885120    \n",
            "                                                                 \n",
            " batch_normalization_2 (Batc  (None, 2, 2, 384)        1536      \n",
            " hNormalization)                                                 \n",
            "                                                                 \n",
            " activation_2 (Activation)   (None, 2, 2, 384)         0         \n",
            "                                                                 \n",
            " conv2d_8 (Conv2D)           (None, 2, 2, 384)         1327488   \n",
            "                                                                 \n",
            " batch_normalization_3 (Batc  (None, 2, 2, 384)        1536      \n",
            " hNormalization)                                                 \n",
            "                                                                 \n",
            " activation_3 (Activation)   (None, 2, 2, 384)         0         \n",
            "                                                                 \n",
            " conv2d_9 (Conv2D)           (None, 2, 2, 256)         884992    \n",
            "                                                                 \n",
            " batch_normalization_4 (Batc  (None, 2, 2, 256)        1024      \n",
            " hNormalization)                                                 \n",
            "                                                                 \n",
            " activation_4 (Activation)   (None, 2, 2, 256)         0         \n",
            "                                                                 \n",
            " max_pooling2d_5 (MaxPooling  (None, 1, 1, 256)        0         \n",
            " 2D)                                                             \n",
            "                                                                 \n",
            " flatten_1 (Flatten)         (None, 256)               0         \n",
            "                                                                 \n",
            " dense_3 (Dense)             (None, 4096)              1052672   \n",
            "                                                                 \n",
            " batch_normalization_5 (Batc  (None, 4096)             16384     \n",
            " hNormalization)                                                 \n",
            "                                                                 \n",
            " activation_5 (Activation)   (None, 4096)              0         \n",
            "                                                                 \n",
            " dropout_2 (Dropout)         (None, 4096)              0         \n",
            "                                                                 \n",
            " dense_4 (Dense)             (None, 4096)              16781312  \n",
            "                                                                 \n",
            " batch_normalization_6 (Batc  (None, 4096)             16384     \n",
            " hNormalization)                                                 \n",
            "                                                                 \n",
            " activation_6 (Activation)   (None, 4096)              0         \n",
            "                                                                 \n",
            " dropout_3 (Dropout)         (None, 4096)              0         \n",
            "                                                                 \n",
            " dense_5 (Dense)             (None, 10)                40970     \n",
            "                                                                 \n",
            " batch_normalization_7 (Batc  (None, 10)               40        \n",
            " hNormalization)                                                 \n",
            "                                                                 \n",
            " activation_7 (Activation)   (None, 10)                0         \n",
            "                                                                 \n",
            "=================================================================\n",
            "Total params: 21,660,466\n",
            "Trainable params: 21,641,310\n",
            "Non-trainable params: 19,156\n",
            "_________________________________________________________________\n"
          ]
        }
      ]
    },
    {
      "cell_type": "markdown",
      "source": [
        "Try with different monitor and optimizer"
      ],
      "metadata": {
        "id": "w_FAGZduvCed"
      }
    },
    {
      "cell_type": "code",
      "source": [
        "lrr2 = ReduceLROnPlateau(\n",
        "    monitor='val_accuracy',\n",
        "    patience=5, min_lr=1e-5\n",
        ")"
      ],
      "metadata": {
        "id": "ES0EQ3Wf2OGw"
      },
      "execution_count": 27,
      "outputs": []
    },
    {
      "cell_type": "code",
      "source": [
        "epochs3 = 40\n",
        "\n",
        "model3 = Sequential([\n",
        "    # 1st convolutional layer, 96 kernels of size 11×11×3 with a stride of 4 pixels\n",
        "    Conv2D(filters=96, input_shape=(32, 32, 3), kernel_size=(11, 11), strides=(4, 4), \n",
        "           kernel_initializer=tf.keras.initializers.RandomNormal(stddev=0.01, seed=2022), padding='same'),  \n",
        "    BatchNormalization(), \n",
        "    Activation('relu'),\n",
        "    MaxPooling2D(pool_size=(2,2), strides=(2,2), padding='same'),  # 1st max-pooling layer\n",
        "\n",
        "\n",
        "    # 2nd convolutional layer, 256 kernels of size 5 × 5 × 48\n",
        "    Conv2D(filters=256, kernel_size=(5, 5), strides=(1, 1), bias_initializer=tf.keras.initializers.Ones(), \n",
        "           kernel_initializer=tf.keras.initializers.RandomNormal(stddev=0.01, seed=2022), padding='same'),  \n",
        "    BatchNormalization(),\n",
        "    Activation('relu'),\n",
        "    MaxPooling2D(pool_size=(2,2), strides=(2,2), padding='same'),  # 2nd max-pooling layer\n",
        "\n",
        "\n",
        "    Conv2D(filters=384, kernel_size=(3, 3), strides=(1, 1), padding='same',\n",
        "           kernel_initializer=tf.keras.initializers.RandomNormal(stddev=0.01, seed=2022)),  # 3rd convolutional layer, 384 kernels of size 3 × 3 × 256\n",
        "    BatchNormalization(),\n",
        "    Activation('relu'),\n",
        "\n",
        "    Conv2D(filters=384, kernel_size=(3, 3), strides=(1, 1), padding='same',\n",
        "           bias_initializer=tf.keras.initializers.Ones(), \n",
        "           kernel_initializer=tf.keras.initializers.RandomNormal(stddev=0.01, seed=2022)),  # 4th convolutional layer, 384 kernels of size 3 × 3 × 192\n",
        "    BatchNormalization(),\n",
        "    Activation('relu'),\n",
        "\n",
        "    Conv2D(filters=256, kernel_size=(3, 3), strides= (1, 1), padding='same',\n",
        "           bias_initializer=tf.keras.initializers.Ones(), \n",
        "           kernel_initializer=tf.keras.initializers.RandomNormal(stddev=0.01, seed=2022)),  # 5th convolutional layer, 256 kernels of size 3 × 3 × 192\n",
        "    BatchNormalization(),\n",
        "    Activation('relu'),\n",
        "    MaxPooling2D(pool_size=(2,2), strides=(2,2), padding='same'),  # 3rd max-pooling layer\n",
        "\n",
        "    Flatten(),\n",
        "\n",
        "\n",
        "    Dense(units=4096, bias_initializer=tf.keras.initializers.Ones(), \n",
        "           kernel_initializer=tf.keras.initializers.RandomNormal(stddev=0.01, seed=2022), input_shape=(32, 32, 3,)),\n",
        "    BatchNormalization(),\n",
        "    Activation('relu'),\n",
        "    Dropout(rate=0.5),\n",
        "\n",
        "\n",
        "    Dense(units=4096, bias_initializer=tf.keras.initializers.Ones(), \n",
        "           kernel_initializer=tf.keras.initializers.RandomNormal(stddev=0.01, seed=2022)),\n",
        "    BatchNormalization(),\n",
        "    Activation('relu'),\n",
        "    Dropout(rate=0.5),\n",
        "\n",
        "\n",
        "    Dense(units=10, bias_initializer=tf.keras.initializers.Ones(), \n",
        "           kernel_initializer=tf.keras.initializers.RandomNormal(stddev=0.01, seed=2022)),\n",
        "    BatchNormalization(),\n",
        "    Activation('softmax'),\n",
        "])\n"
      ],
      "metadata": {
        "id": "hKrn0dGDvCDs"
      },
      "execution_count": 28,
      "outputs": []
    },
    {
      "cell_type": "code",
      "source": [
        "model3.compile(\n",
        "    loss = tf.keras.losses.categorical_crossentropy, \n",
        "    optimizer = 'adam' , \n",
        "    metrics=['accuracy']\n",
        ")\n",
        "\n",
        "#Training the model\n",
        "model3_history = model3.fit_generator(\n",
        "    train_generator.flow(X_train, y_train, batch_size=batch_size), \n",
        "    epochs = epochs3, \n",
        "    steps_per_epoch = X_train.shape[0]//batch_size, \n",
        "    validation_data = val_generator.flow(X_val, y_val, batch_size=batch_size), \n",
        "    validation_steps = len(val_generator.flow(X_val, y_val, batch_size=batch_size)), \n",
        "    callbacks = [lrr2], verbose=1)\n",
        "\n",
        "(model3.predict(X_test).argmax(axis=1) == y_test.argmax(axis=1)).mean()"
      ],
      "metadata": {
        "colab": {
          "base_uri": "https://localhost:8080/"
        },
        "id": "lcm_zWrqvraz",
        "outputId": "f920471c-b0c0-492a-f225-88806e4e0512"
      },
      "execution_count": 29,
      "outputs": [
        {
          "output_type": "stream",
          "name": "stdout",
          "text": [
            "Epoch 1/40\n"
          ]
        },
        {
          "output_type": "stream",
          "name": "stderr",
          "text": [
            "/usr/local/lib/python3.7/dist-packages/ipykernel_launcher.py:14: UserWarning: `Model.fit_generator` is deprecated and will be removed in a future version. Please use `Model.fit`, which supports generators.\n",
            "  \n"
          ]
        },
        {
          "output_type": "stream",
          "name": "stdout",
          "text": [
            "400/400 [==============================] - 25s 59ms/step - loss: 1.6049 - accuracy: 0.4207 - val_loss: 1.9833 - val_accuracy: 0.3413 - lr: 0.0010\n",
            "Epoch 2/40\n",
            "400/400 [==============================] - 24s 60ms/step - loss: 1.3298 - accuracy: 0.5357 - val_loss: 1.6675 - val_accuracy: 0.4301 - lr: 0.0010\n",
            "Epoch 3/40\n",
            "400/400 [==============================] - 23s 58ms/step - loss: 1.2097 - accuracy: 0.5767 - val_loss: 1.3299 - val_accuracy: 0.5392 - lr: 0.0010\n",
            "Epoch 4/40\n",
            "400/400 [==============================] - 23s 58ms/step - loss: 1.1191 - accuracy: 0.6125 - val_loss: 1.3994 - val_accuracy: 0.5137 - lr: 0.0010\n",
            "Epoch 5/40\n",
            "400/400 [==============================] - 29s 72ms/step - loss: 1.0492 - accuracy: 0.6349 - val_loss: 1.1214 - val_accuracy: 0.6131 - lr: 0.0010\n",
            "Epoch 6/40\n",
            "400/400 [==============================] - 23s 57ms/step - loss: 0.9849 - accuracy: 0.6624 - val_loss: 1.1131 - val_accuracy: 0.6152 - lr: 0.0010\n",
            "Epoch 7/40\n",
            "400/400 [==============================] - 23s 56ms/step - loss: 0.9313 - accuracy: 0.6790 - val_loss: 1.1907 - val_accuracy: 0.5828 - lr: 0.0010\n",
            "Epoch 8/40\n",
            "400/400 [==============================] - 23s 58ms/step - loss: 0.8879 - accuracy: 0.6955 - val_loss: 1.1951 - val_accuracy: 0.5771 - lr: 0.0010\n",
            "Epoch 9/40\n",
            "400/400 [==============================] - 24s 59ms/step - loss: 0.8423 - accuracy: 0.7118 - val_loss: 1.0795 - val_accuracy: 0.6291 - lr: 0.0010\n",
            "Epoch 10/40\n",
            "400/400 [==============================] - 24s 59ms/step - loss: 0.7977 - accuracy: 0.7280 - val_loss: 1.1908 - val_accuracy: 0.5962 - lr: 0.0010\n",
            "Epoch 11/40\n",
            "400/400 [==============================] - 25s 62ms/step - loss: 0.7607 - accuracy: 0.7404 - val_loss: 1.2118 - val_accuracy: 0.6002 - lr: 0.0010\n",
            "Epoch 12/40\n",
            "400/400 [==============================] - 24s 59ms/step - loss: 0.7256 - accuracy: 0.7560 - val_loss: 1.0666 - val_accuracy: 0.6418 - lr: 0.0010\n",
            "Epoch 13/40\n",
            "400/400 [==============================] - 23s 59ms/step - loss: 0.6909 - accuracy: 0.7666 - val_loss: 1.0272 - val_accuracy: 0.6543 - lr: 0.0010\n",
            "Epoch 14/40\n",
            "400/400 [==============================] - 23s 58ms/step - loss: 0.6530 - accuracy: 0.7807 - val_loss: 1.0746 - val_accuracy: 0.6557 - lr: 0.0010\n",
            "Epoch 15/40\n",
            "400/400 [==============================] - 25s 62ms/step - loss: 0.6295 - accuracy: 0.7901 - val_loss: 1.1146 - val_accuracy: 0.6318 - lr: 0.0010\n",
            "Epoch 16/40\n",
            "400/400 [==============================] - 23s 57ms/step - loss: 0.6012 - accuracy: 0.7968 - val_loss: 0.9614 - val_accuracy: 0.6742 - lr: 0.0010\n",
            "Epoch 17/40\n",
            "400/400 [==============================] - 23s 58ms/step - loss: 0.5752 - accuracy: 0.8053 - val_loss: 1.0403 - val_accuracy: 0.6623 - lr: 0.0010\n",
            "Epoch 18/40\n",
            "400/400 [==============================] - 24s 59ms/step - loss: 0.5425 - accuracy: 0.8174 - val_loss: 1.1716 - val_accuracy: 0.6302 - lr: 0.0010\n",
            "Epoch 19/40\n",
            "400/400 [==============================] - 23s 58ms/step - loss: 0.5206 - accuracy: 0.8249 - val_loss: 0.9900 - val_accuracy: 0.6768 - lr: 0.0010\n",
            "Epoch 20/40\n",
            "400/400 [==============================] - 23s 58ms/step - loss: 0.4938 - accuracy: 0.8347 - val_loss: 1.0125 - val_accuracy: 0.6775 - lr: 0.0010\n",
            "Epoch 21/40\n",
            "400/400 [==============================] - 24s 59ms/step - loss: 0.4661 - accuracy: 0.8432 - val_loss: 1.0152 - val_accuracy: 0.6795 - lr: 0.0010\n",
            "Epoch 22/40\n",
            "400/400 [==============================] - 23s 58ms/step - loss: 0.4502 - accuracy: 0.8481 - val_loss: 0.9922 - val_accuracy: 0.6873 - lr: 0.0010\n",
            "Epoch 23/40\n",
            "400/400 [==============================] - 23s 57ms/step - loss: 0.4266 - accuracy: 0.8583 - val_loss: 0.9943 - val_accuracy: 0.6885 - lr: 0.0010\n",
            "Epoch 24/40\n",
            "400/400 [==============================] - 23s 58ms/step - loss: 0.4167 - accuracy: 0.8611 - val_loss: 1.1228 - val_accuracy: 0.6602 - lr: 0.0010\n",
            "Epoch 25/40\n",
            "400/400 [==============================] - 23s 58ms/step - loss: 0.3971 - accuracy: 0.8673 - val_loss: 1.1187 - val_accuracy: 0.6561 - lr: 0.0010\n",
            "Epoch 26/40\n",
            "400/400 [==============================] - 23s 57ms/step - loss: 0.3747 - accuracy: 0.8754 - val_loss: 1.0804 - val_accuracy: 0.6766 - lr: 0.0010\n",
            "Epoch 27/40\n",
            "400/400 [==============================] - 23s 57ms/step - loss: 0.3591 - accuracy: 0.8797 - val_loss: 1.0921 - val_accuracy: 0.6761 - lr: 0.0010\n",
            "Epoch 28/40\n",
            "400/400 [==============================] - 23s 57ms/step - loss: 0.3474 - accuracy: 0.8846 - val_loss: 1.0573 - val_accuracy: 0.6880 - lr: 0.0010\n",
            "Epoch 29/40\n",
            "400/400 [==============================] - 24s 60ms/step - loss: 0.2399 - accuracy: 0.9246 - val_loss: 0.9233 - val_accuracy: 0.7213 - lr: 1.0000e-04\n",
            "Epoch 30/40\n",
            "400/400 [==============================] - 23s 57ms/step - loss: 0.2048 - accuracy: 0.9375 - val_loss: 0.9425 - val_accuracy: 0.7266 - lr: 1.0000e-04\n",
            "Epoch 31/40\n",
            "400/400 [==============================] - 24s 59ms/step - loss: 0.1890 - accuracy: 0.9431 - val_loss: 0.9555 - val_accuracy: 0.7276 - lr: 1.0000e-04\n",
            "Epoch 32/40\n",
            "400/400 [==============================] - 23s 57ms/step - loss: 0.1785 - accuracy: 0.9465 - val_loss: 0.9571 - val_accuracy: 0.7327 - lr: 1.0000e-04\n",
            "Epoch 33/40\n",
            "400/400 [==============================] - 23s 57ms/step - loss: 0.1685 - accuracy: 0.9491 - val_loss: 0.9870 - val_accuracy: 0.7271 - lr: 1.0000e-04\n",
            "Epoch 34/40\n",
            "400/400 [==============================] - 23s 57ms/step - loss: 0.1559 - accuracy: 0.9524 - val_loss: 0.9934 - val_accuracy: 0.7281 - lr: 1.0000e-04\n",
            "Epoch 35/40\n",
            "400/400 [==============================] - 23s 57ms/step - loss: 0.1577 - accuracy: 0.9521 - val_loss: 1.0054 - val_accuracy: 0.7255 - lr: 1.0000e-04\n",
            "Epoch 36/40\n",
            "400/400 [==============================] - 23s 58ms/step - loss: 0.1472 - accuracy: 0.9563 - val_loss: 1.0291 - val_accuracy: 0.7234 - lr: 1.0000e-04\n",
            "Epoch 37/40\n",
            "400/400 [==============================] - 23s 58ms/step - loss: 0.1413 - accuracy: 0.9577 - val_loss: 1.0296 - val_accuracy: 0.7255 - lr: 1.0000e-04\n",
            "Epoch 38/40\n",
            "400/400 [==============================] - 24s 59ms/step - loss: 0.1360 - accuracy: 0.9605 - val_loss: 1.0465 - val_accuracy: 0.7228 - lr: 1.0000e-05\n",
            "Epoch 39/40\n",
            "400/400 [==============================] - 23s 57ms/step - loss: 0.1239 - accuracy: 0.9647 - val_loss: 1.0273 - val_accuracy: 0.7250 - lr: 1.0000e-05\n",
            "Epoch 40/40\n",
            "400/400 [==============================] - 23s 57ms/step - loss: 0.1254 - accuracy: 0.9640 - val_loss: 1.0238 - val_accuracy: 0.7302 - lr: 1.0000e-05\n",
            "313/313 [==============================] - 1s 4ms/step\n"
          ]
        },
        {
          "output_type": "execute_result",
          "data": {
            "text/plain": [
              "0.7366"
            ]
          },
          "metadata": {},
          "execution_count": 29
        }
      ]
    }
  ]
}