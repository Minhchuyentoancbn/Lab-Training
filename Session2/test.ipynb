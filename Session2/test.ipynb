{
 "cells": [
  {
   "cell_type": "code",
   "execution_count": 1,
   "id": "d7ec3fe1-9107-45cd-930a-2213954a0921",
   "metadata": {},
   "outputs": [],
   "source": [
    "from kmeans import *"
   ]
  },
  {
   "cell_type": "code",
   "execution_count": 2,
   "id": "4d37aadc-3f0c-4b11-a365-552c771d7552",
   "metadata": {},
   "outputs": [],
   "source": [
    "k = Kmeans(20)\n",
    "k.load_data('../Session1/data/20news-bydate/tfidf_full.txt')\n",
    "k.run(100, 'similarity', 1e-3)"
   ]
  },
  {
   "cell_type": "code",
   "execution_count": 3,
   "id": "2d4f0219-6717-41e0-a285-cb6994d91678",
   "metadata": {},
   "outputs": [
    {
     "data": {
      "text/plain": [
       "0.12019219699803219"
      ]
     },
     "execution_count": 3,
     "metadata": {},
     "output_type": "execute_result"
    }
   ],
   "source": [
    "k.compute_NMI()"
   ]
  },
  {
   "cell_type": "code",
   "execution_count": 4,
   "id": "440c204d-f83e-4e43-a78b-46b7f74be2b9",
   "metadata": {},
   "outputs": [
    {
     "data": {
      "text/plain": [
       "0.5530616576461849"
      ]
     },
     "execution_count": 4,
     "metadata": {},
     "output_type": "execute_result"
    }
   ],
   "source": [
    "k.compute_purity()"
   ]
  },
  {
   "cell_type": "code",
   "execution_count": null,
   "id": "a5bba59a-be3a-4e54-b3c9-f8d06b56fee9",
   "metadata": {},
   "outputs": [],
   "source": []
  }
 ],
 "metadata": {
  "kernelspec": {
   "display_name": "Python 3 (ipykernel)",
   "language": "python",
   "name": "python3"
  },
  "language_info": {
   "codemirror_mode": {
    "name": "ipython",
    "version": 3
   },
   "file_extension": ".py",
   "mimetype": "text/x-python",
   "name": "python",
   "nbconvert_exporter": "python",
   "pygments_lexer": "ipython3",
   "version": "3.8.8"
  }
 },
 "nbformat": 4,
 "nbformat_minor": 5
}
