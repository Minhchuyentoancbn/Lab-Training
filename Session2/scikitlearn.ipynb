{
 "cells": [
  {
   "cell_type": "code",
   "execution_count": 1,
   "id": "56adef96-4522-4bf0-8c82-342414dcb3c5",
   "metadata": {},
   "outputs": [],
   "source": [
    "import numpy as np\n",
    "from sklearn.cluster import KMeans\n",
    "from sklearn.svm import LinearSVC, SVC\n",
    "from scipy.sparse import csr_matrix"
   ]
  },
  {
   "cell_type": "code",
   "execution_count": 2,
   "id": "9600b7b7-e7b9-4dc2-bcbb-5c8cfccdcd55",
   "metadata": {},
   "outputs": [],
   "source": [
    "def load_data(data_path):\n",
    "    def sparse_to_dense(sparse_r_d, vocab_size):\n",
    "        r_d = [0.0 for _ in range(vocab_size)]\n",
    "        indices_tfidfs = sparse_r_d.split()\n",
    "        for index_tfidf in indices_tfidfs:\n",
    "            index = int(index_tfidf.split(':')[0])\n",
    "            tfidf = float(index_tfidf.split(':')[1])\n",
    "            r_d[index] = tfidf\n",
    "        return np.array(r_d)\n",
    "\n",
    "    with open(data_path) as f:\n",
    "        d_lines = f.read().splitlines()\n",
    "    with open('../Session1/data/20news-bydate/words_idfs.txt') as f:\n",
    "        vocab_size = len(f.read().splitlines())\n",
    "\n",
    "    data = []\n",
    "    labels = []\n",
    "\n",
    "    for data_id, d in enumerate(d_lines):\n",
    "        features = d.split('<fff>')\n",
    "        label, doc_id = int(features[0]), int(features[1])\n",
    "        r_d = sparse_to_dense(features[2], vocab_size)\n",
    "        labels.append(label)\n",
    "        data.append(r_d)\n",
    "        \n",
    "    return data, labels"
   ]
  },
  {
   "cell_type": "code",
   "execution_count": 3,
   "id": "1870c7b8-74a8-4d21-bb75-0d8623f91713",
   "metadata": {},
   "outputs": [],
   "source": [
    "def clustering_with_KMeans():\n",
    "    data, labels = load_data('../Session1/data/20news-bydate/tfidf_full.txt')\n",
    "    X = csr_matrix(data)\n",
    "    print('=======')\n",
    "    kmeans = KMeans(\n",
    "        n_clusters=20,\n",
    "        init='random',\n",
    "        n_init=5,\n",
    "        tol=1e-3,\n",
    "        random_state=2018\n",
    "    ).fit(X)\n",
    "    labels = kmeans.labels_\n",
    "    \n",
    "    print(labels)"
   ]
  },
  {
   "cell_type": "code",
   "execution_count": 4,
   "id": "ea0b60ea-2142-4606-9a89-6a18a65851f1",
   "metadata": {},
   "outputs": [],
   "source": [
    "def compute_accuracy(predicted_y, expected_y):\n",
    "    matches = np.equal(predicted_y, expected_y)\n",
    "    accuracy = np.sum(matches.astype(float)) / len(expected_y)\n",
    "    return accuracy"
   ]
  },
  {
   "cell_type": "code",
   "execution_count": 5,
   "id": "0de10a74-cc43-4ff6-9d9e-6282e84c180d",
   "metadata": {},
   "outputs": [],
   "source": [
    "def classifying_with_SVMs():\n",
    "    train_X, train_y = load_data(\n",
    "        '../Session1/data/20news-bydate/tfidf_train.txt')\n",
    "    classifier = LinearSVC(\n",
    "        C=10.0,\n",
    "        tol=1e-3,\n",
    "        verbose=True\n",
    "    )\n",
    "    classifier.fit(train_X, train_y)\n",
    "    \n",
    "    test_X, test_y = load_data(\n",
    "        '../Session1/data/20news-bydate/tfidf_test.txt')\n",
    "    predicted_y = classifier.predict(test_X)\n",
    "    accuracy = compute_accuracy(predicted_y, test_y)\n",
    "    print(f'Accuracy: {accuracy}')\n",
    "    \n",
    "    classifier2 = SVC(\n",
    "        C=50.0,\n",
    "        kernel='rbf',\n",
    "        gamma=0.1,\n",
    "        tol=1e-3,\n",
    "        verbose=True\n",
    "    ).fit(train_X, train_y)\n",
    "    \n",
    "    predicted_y = classifier2.predict(test_X)\n",
    "    accuracy = compute_accuracy(predicted_y, test_y)\n",
    "    print(f'Accuracy: {accuracy}')"
   ]
  },
  {
   "cell_type": "code",
   "execution_count": 6,
   "id": "71281b0b-036b-4950-8201-62a4e53b7a55",
   "metadata": {},
   "outputs": [
    {
     "name": "stdout",
     "output_type": "stream",
     "text": [
      "[LibLinear]Accuracy: 0.8216941051513542\n",
      "[LibSVM]Accuracy: 0.8195698353690919\n"
     ]
    }
   ],
   "source": [
    "classifying_with_SVMs()"
   ]
  },
  {
   "cell_type": "code",
   "execution_count": null,
   "id": "f404b6cd-167a-4160-9338-6012b0c52ccc",
   "metadata": {},
   "outputs": [],
   "source": []
  }
 ],
 "metadata": {
  "kernelspec": {
   "display_name": "Python 3 (ipykernel)",
   "language": "python",
   "name": "python3"
  },
  "language_info": {
   "codemirror_mode": {
    "name": "ipython",
    "version": 3
   },
   "file_extension": ".py",
   "mimetype": "text/x-python",
   "name": "python",
   "nbconvert_exporter": "python",
   "pygments_lexer": "ipython3",
   "version": "3.8.8"
  }
 },
 "nbformat": 4,
 "nbformat_minor": 5
}
