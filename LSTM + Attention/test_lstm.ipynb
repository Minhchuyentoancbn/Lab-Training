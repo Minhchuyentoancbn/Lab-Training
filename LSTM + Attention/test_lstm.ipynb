{
 "cells": [
  {
   "cell_type": "code",
   "execution_count": 10,
   "id": "8ef3ce6b-51e7-481b-91fd-6e85e553955f",
   "metadata": {},
   "outputs": [],
   "source": [
    "import tensorflow as tf\n",
    "import numpy as np\n",
    "import pandas as pd\n",
    "\n",
    "from tensorflow.keras.layers import Embedding, Dense, LSTM, BatchNormalization, Activation, Bidirectional\n",
    "from tensorflow.keras.models import Sequential"
   ]
  },
  {
   "cell_type": "code",
   "execution_count": 2,
   "id": "612e42e4-bed6-4b60-acb2-3a8cb3e0ec1c",
   "metadata": {},
   "outputs": [],
   "source": [
    "with open('vocab-raw.txt') as f:\n",
    "    vocab_size = len(f.read().splitlines())"
   ]
  },
  {
   "cell_type": "code",
   "execution_count": 3,
   "id": "961c0b40-aed4-47cf-b505-d741a6956ed7",
   "metadata": {},
   "outputs": [
    {
     "data": {
      "text/plain": [
       "18988"
      ]
     },
     "execution_count": 3,
     "metadata": {},
     "output_type": "execute_result"
    }
   ],
   "source": [
    "vocab_size"
   ]
  },
  {
   "cell_type": "code",
   "execution_count": 4,
   "id": "cf59fafe-2b4e-4df2-a90d-48af12c52f5f",
   "metadata": {},
   "outputs": [],
   "source": [
    "train_path = '../Session4/data/w2v/20news-train-encoded.txt'\n",
    "\n",
    "with open(train_path) as f:\n",
    "    d_lines = f.read().splitlines()\n",
    "    \n",
    "train_data = []\n",
    "train_labels = []\n",
    "    \n",
    "for line in d_lines:\n",
    "    features = line.split('<fff>')\n",
    "    label, doc_id, sentence_length = int(features[0]), int(features[1]), int(features[2])\n",
    "    tokens = features[3].split()\n",
    "    train_data.append(tokens)\n",
    "    train_labels.append(label)\n",
    "    \n",
    "X_train = np.array(train_data).astype('int')\n",
    "y_train = np.array(train_labels).astype('int')\n",
    "y_train = pd.get_dummies(pd.Series(y_train))"
   ]
  },
  {
   "cell_type": "code",
   "execution_count": 5,
   "id": "cb3b7069-ded6-4d66-b662-ab15b55941b9",
   "metadata": {},
   "outputs": [],
   "source": [
    "test_path = ''../Session4/data/w2v/20news-test-encoded.txt'\n",
    "\n",
    "with open(test_path) as f:\n",
    "    d_lines = f.read().splitlines()\n",
    "    \n",
    "test_data = []\n",
    "test_labels = []\n",
    "    \n",
    "for line in d_lines:\n",
    "    features = line.split('<fff>')\n",
    "    label, doc_id, sentence_length = int(features[0]), int(features[1]), int(features[2])\n",
    "    tokens = features[3].split()\n",
    "    test_data.append(tokens)\n",
    "    test_labels.append(label)\n",
    "    \n",
    "X_test = np.array(test_data).astype('int')\n",
    "y_test = np.array(test_labels).astype('int')\n",
    "y_test = pd.get_dummies(pd.Series(y_test))"
   ]
  },
  {
   "cell_type": "code",
   "execution_count": 24,
   "id": "1a5646a7-76bc-4be8-b078-c4c249b28664",
   "metadata": {},
   "outputs": [],
   "source": [
    "model = Sequential([\n",
    "    Embedding(input_dim=vocab_size+2, output_dim=300),\n",
    "    BatchNormalization(),\n",
    "    Bidirectional(LSTM(units=50)),\n",
    "    Dense(units=20),\n",
    "    Activation('softmax')\n",
    "])\n",
    "\n",
    "model.compile(\n",
    "    optimizer='adam',\n",
    "    loss=tf.keras.losses.CategoricalCrossentropy(), metrics=['acc', ]\n",
    ")"
   ]
  },
  {
   "cell_type": "code",
   "execution_count": 12,
   "id": "e367639b-28c4-4458-bd65-d355938a86bf",
   "metadata": {},
   "outputs": [
    {
     "name": "stdout",
     "output_type": "stream",
     "text": [
      "Model: \"sequential_1\"\n",
      "_________________________________________________________________\n",
      "Layer (type)                 Output Shape              Param #   \n",
      "=================================================================\n",
      "embedding_1 (Embedding)      (None, None, 300)         5697000   \n",
      "_________________________________________________________________\n",
      "batch_normalization_1 (Batch (None, None, 300)         1200      \n",
      "_________________________________________________________________\n",
      "bidirectional (Bidirectional (None, 100)               140400    \n",
      "_________________________________________________________________\n",
      "dense_1 (Dense)              (None, 20)                2020      \n",
      "_________________________________________________________________\n",
      "activation_1 (Activation)    (None, 20)                0         \n",
      "=================================================================\n",
      "Total params: 5,840,620\n",
      "Trainable params: 5,840,020\n",
      "Non-trainable params: 600\n",
      "_________________________________________________________________\n"
     ]
    }
   ],
   "source": [
    "model.summary()"
   ]
  },
  {
   "cell_type": "code",
   "execution_count": 25,
   "id": "15cd6333-246a-49cd-aa9a-20ae5bfcc9a2",
   "metadata": {},
   "outputs": [
    {
     "name": "stdout",
     "output_type": "stream",
     "text": [
      "Epoch 1/25\n",
      "182/182 [==============================] - 30s 134ms/step - loss: 1.6124 - acc: 0.5523 - val_loss: 3.6442 - val_acc: 0.0208\n",
      "Epoch 2/25\n",
      "182/182 [==============================] - 25s 137ms/step - loss: 0.2571 - acc: 0.9449 - val_loss: 4.8479 - val_acc: 0.0424\n",
      "Epoch 3/25\n",
      "182/182 [==============================] - 25s 140ms/step - loss: 0.0584 - acc: 0.9911 - val_loss: 6.2191 - val_acc: 0.0968\n",
      "Epoch 4/25\n",
      "182/182 [==============================] - 25s 137ms/step - loss: 0.0213 - acc: 0.9969 - val_loss: 7.0362 - val_acc: 0.1149\n",
      "Epoch 5/25\n",
      "182/182 [==============================] - 24s 133ms/step - loss: 0.0133 - acc: 0.9979 - val_loss: 7.2009 - val_acc: 0.1202\n",
      "Epoch 6/25\n",
      "182/182 [==============================] - 25s 138ms/step - loss: 0.0083 - acc: 0.9983 - val_loss: 7.2980 - val_acc: 0.1193\n",
      "Epoch 7/25\n",
      "182/182 [==============================] - 26s 145ms/step - loss: 0.0060 - acc: 0.9986 - val_loss: 7.4608 - val_acc: 0.1193\n",
      "Epoch 8/25\n",
      "182/182 [==============================] - 21s 113ms/step - loss: 0.0051 - acc: 0.9988 - val_loss: 7.5893 - val_acc: 0.1211\n",
      "Epoch 9/25\n",
      "182/182 [==============================] - 20s 109ms/step - loss: 0.0049 - acc: 0.9988 - val_loss: 7.7606 - val_acc: 0.1184\n",
      "Epoch 10/25\n",
      "182/182 [==============================] - 21s 114ms/step - loss: 0.0041 - acc: 0.9989 - val_loss: 7.8707 - val_acc: 0.1211\n",
      "Epoch 11/25\n",
      "182/182 [==============================] - 21s 117ms/step - loss: 0.0034 - acc: 0.9990 - val_loss: 7.8706 - val_acc: 0.1211\n",
      "Epoch 12/25\n",
      "182/182 [==============================] - 20s 112ms/step - loss: 0.0031 - acc: 0.9991 - val_loss: 7.9217 - val_acc: 0.1198\n",
      "Epoch 13/25\n",
      "182/182 [==============================] - 20s 109ms/step - loss: 0.0027 - acc: 0.9994 - val_loss: 8.0446 - val_acc: 0.1220\n",
      "Epoch 14/25\n",
      "182/182 [==============================] - 20s 112ms/step - loss: 0.0023 - acc: 0.9993 - val_loss: 7.9773 - val_acc: 0.1189\n",
      "Epoch 15/25\n",
      "182/182 [==============================] - 21s 114ms/step - loss: 0.0022 - acc: 0.9993 - val_loss: 8.1520 - val_acc: 0.1228\n",
      "Epoch 16/25\n",
      "182/182 [==============================] - 21s 118ms/step - loss: 0.0018 - acc: 0.9994 - val_loss: 8.2420 - val_acc: 0.1233\n",
      "Epoch 17/25\n",
      "182/182 [==============================] - 21s 116ms/step - loss: 0.0017 - acc: 0.9993 - val_loss: 8.1480 - val_acc: 0.1175\n",
      "Epoch 18/25\n",
      "182/182 [==============================] - 20s 110ms/step - loss: 0.0016 - acc: 0.9994 - val_loss: 8.1839 - val_acc: 0.1198\n",
      "Epoch 19/25\n",
      "182/182 [==============================] - 20s 111ms/step - loss: 0.0014 - acc: 0.9997 - val_loss: 8.1776 - val_acc: 0.1206\n",
      "Epoch 20/25\n",
      "182/182 [==============================] - 20s 111ms/step - loss: 0.0022 - acc: 0.9996 - val_loss: 7.4716 - val_acc: 0.1122\n",
      "Epoch 21/25\n",
      "182/182 [==============================] - 21s 116ms/step - loss: 0.0501 - acc: 0.9899 - val_loss: 7.3985 - val_acc: 0.1114\n",
      "Epoch 22/25\n",
      "182/182 [==============================] - 21s 117ms/step - loss: 0.0239 - acc: 0.9957 - val_loss: 7.8048 - val_acc: 0.1140\n",
      "Epoch 23/25\n",
      "182/182 [==============================] - 21s 113ms/step - loss: 0.0058 - acc: 0.9990 - val_loss: 7.9741 - val_acc: 0.1158\n",
      "Epoch 24/25\n",
      "182/182 [==============================] - 20s 111ms/step - loss: 0.0030 - acc: 0.9992 - val_loss: 8.0744 - val_acc: 0.1153\n",
      "Epoch 25/25\n",
      "182/182 [==============================] - 20s 111ms/step - loss: 0.0021 - acc: 0.9993 - val_loss: 8.2661 - val_acc: 0.1140\n"
     ]
    },
    {
     "data": {
      "text/plain": [
       "<keras.callbacks.History at 0x212ea8e7940>"
      ]
     },
     "execution_count": 25,
     "metadata": {},
     "output_type": "execute_result"
    }
   ],
   "source": [
    "model.fit(X_train, y_train, batch_size=50, validation_split=0.2, epochs=25)"
   ]
  },
  {
   "cell_type": "code",
   "execution_count": 26,
   "id": "a754ee62-23d1-4dcc-abb7-baeee041b7ce",
   "metadata": {},
   "outputs": [
    {
     "name": "stdout",
     "output_type": "stream",
     "text": [
      "236/236 [==============================] - 10s 41ms/step - loss: 2.2309 - acc: 0.6876\n"
     ]
    },
    {
     "data": {
      "text/plain": [
       "[2.2308671474456787, 0.6875995993614197]"
      ]
     },
     "execution_count": 26,
     "metadata": {},
     "output_type": "execute_result"
    }
   ],
   "source": [
    "model.evaluate(X_test, y_test)"
   ]
  },
  {
   "cell_type": "code",
   "execution_count": null,
   "id": "54858861-2e38-4648-ae58-1dc2a952b277",
   "metadata": {},
   "outputs": [],
   "source": []
  }
 ],
 "metadata": {
  "kernelspec": {
   "display_name": "Python 3 (ipykernel)",
   "language": "python",
   "name": "python3"
  },
  "language_info": {
   "codemirror_mode": {
    "name": "ipython",
    "version": 3
   },
   "file_extension": ".py",
   "mimetype": "text/x-python",
   "name": "python",
   "nbconvert_exporter": "python",
   "pygments_lexer": "ipython3",
   "version": "3.9.13"
  }
 },
 "nbformat": 4,
 "nbformat_minor": 5
}
